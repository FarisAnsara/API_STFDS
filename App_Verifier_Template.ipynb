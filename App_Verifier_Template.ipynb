{
 "cells": [
  {
   "cell_type": "markdown",
   "metadata": {},
   "source": [
    "# Time Recording Application Testing Code\n",
    "\n",
    "This notebook is designed to communicate with the Time Recording Application server and perform a series of tests. It is necessary to restart the server for each test to ensure that the test did not fail because of the state the server was in due to the previous tests. Each time you restart the server ensure that it begins with a database in a known state.\n",
    "\n",
    "tesy_suite() performs this operation for all tests in the list and is the process that will be used to determine the marks allocated."
   ]
  },
  {
   "cell_type": "code",
   "execution_count": 1,
   "metadata": {
    "collapsed": true,
    "ExecuteTime": {
     "end_time": "2023-11-30T16:33:20.960268900Z",
     "start_time": "2023-11-30T16:33:20.862014900Z"
    }
   },
   "outputs": [],
   "source": [
    "# The modules needed\n",
    "import random\n",
    "import requests\n",
    "import shutil\n",
    "import json\n",
    "import subprocess\n",
    "\n",
    "import os\n",
    "import socket"
   ]
  },
  {
   "cell_type": "code",
   "execution_count": 3,
   "metadata": {
    "collapsed": true,
    "ExecuteTime": {
     "end_time": "2023-11-30T16:33:26.081973Z",
     "start_time": "2023-11-30T16:33:26.054904700Z"
    }
   },
   "outputs": [],
   "source": [
    "# The core code\n",
    "\n",
    "def request2server_get(url,cookies):\n",
    "    \"\"\"Send a get request to the server\"\"\"\n",
    "    ucookie = cookies[0]\n",
    "    mcookie = cookies[1]\n",
    "    try:\n",
    "        r = requests.get(url,cookies=dict(u_cookie=cookies[0],m_cookie=cookies[1]),timeout=30)\n",
    "        for c in r.cookies:\n",
    "            if (c.name == 'u_cookie'):\n",
    "                ucookie = c.value\n",
    "            if (c.name == 'm_cookie'):\n",
    "                mcookie = c.value\n",
    "        act=json.loads(r.text)\n",
    "        return [[ucookie,mcookie],act]\n",
    "    except :\n",
    "        print(\"Invalid login\")\n",
    "        return [[ucookie,mcookie],[]]\n",
    "\n",
    "def request2server_post(url,cookies,content):\n",
    "    \"\"\"Send a post request to the server\"\"\"\n",
    "    ucookie = cookies[0]\n",
    "    mcookie = cookies[1]\n",
    "    try:\n",
    "        r = requests.post(url,cookies=dict(u_cookie=cookies[0],m_cookie=cookies[1]),json=content, timeout=30)\n",
    "        for c in r.cookies:\n",
    "            if (c.name == 'u_cookie'):\n",
    "                ucookie = c.value\n",
    "            if (c.name == 'm_cookie'):\n",
    "                mcookie = c.value\n",
    "        act=json.loads(r.text)\n",
    "        return [[ucookie,mcookie],act]\n",
    "    except :\n",
    "        print(\"Invalid login\")\n",
    "        return [[ucookie,mcookie],[]]\n",
    "\n",
    "def do_login(cookies,user,pasw):\n",
    "    \"\"\"Send a login command\"\"\"\n",
    "    global server_port\n",
    "    content = {\"command\":\"login\",\"username\":user,\"password\":pasw}\n",
    "    return request2server_post(\"http://localhost:\"+server_port+\"/action?command=login\",cookies, content)\n",
    "\n",
    "def do_logout(cookies):\n",
    "    \"\"\"Send a logout command\"\"\"\n",
    "    global server_port\n",
    "    content = {\"command\":\"logout\"}\n",
    "    return request2server_post(\"http://localhost:\"+server_port+\"/action?command=logout\",cookies, content)\n",
    "\n",
    "\n"
   ]
  },
  {
   "cell_type": "code",
   "execution_count": 8,
   "metadata": {
    "collapsed": true,
    "ExecuteTime": {
     "end_time": "2023-11-30T16:34:10.021306Z",
     "start_time": "2023-11-30T16:34:10.012864800Z"
    }
   },
   "outputs": [],
   "source": [
    "def find_redirect(act):\n",
    "    \"\"\"Check for a redirect response. Return the where target if found or None otherwise.\"\"\"\n",
    "    if act == None:\n",
    "        return None\n",
    "    try:\n",
    "        for a in act:\n",
    "            if(a['type']=='redirect'):\n",
    "                return a['where']\n",
    "    except:\n",
    "        return None\n",
    "\n",
    "def checked_login(test,cookies,user,pasw):\n",
    "    \"\"\"Send a login command and check it's good.\"\"\"\n",
    "    [cookies,act] = do_login(cookies, user,pasw)\n",
    "    where = find_redirect(act)\n",
    "    if(where == None):\n",
    "        print(\"Test \"+str(test)+\" Failed - Expected redirect during login.\")\n",
    "        return ['',act,False]\n",
    "    if (where != '/index.html'):\n",
    "        print(\"Test \"+str(test)+\" Failed - Expected /index.html got {\"+where+\"}\")\n",
    "        return [cookies,act,False]\n",
    "    return [cookies,act,True]\n",
    "\n",
    "def checked_logout(test,cookies):\n",
    "    \"\"\"Send a logout command and check it's good.\"\"\"\n",
    "    [cookies,act] = do_logout(cookies)     \n",
    "    where = find_redirect(act)\n",
    "    if(where == None):\n",
    "        print(\"Test \"+str(test)+\" Failed - Expected redirect during logout.\")\n",
    "        return [cookies,act,False]\n",
    "    if (where != '/logout.html'):\n",
    "        print(\"Test \"+str(test)+\" Failed - Expected /logout.html got {\"+where+\"}\")\n",
    "        return [cookies,act,False] \n",
    "    return [cookies,act,True]"
   ]
  },
  {
   "cell_type": "code",
   "execution_count": 9,
   "metadata": {
    "collapsed": true,
    "ExecuteTime": {
     "end_time": "2023-11-30T16:34:11.259915300Z",
     "start_time": "2023-11-30T16:34:11.249921300Z"
    }
   },
   "outputs": [],
   "source": [
    "# Test 1 - Simple login\n",
    "def test1():\n",
    "    \"\"\"Check that login and logout work for a good user.\"\"\"\n",
    "    try:\n",
    "        cookies = ['','']\n",
    "        [cookies,act,flag] = checked_login(1,cookies,\"test1\",\"pass1word\")\n",
    "        if flag!=True:\n",
    "            return 0\n",
    "\n",
    "        [cookies,act,flag] = checked_logout(1,cookies)        \n",
    "        if flag!=True:\n",
    "            return 0\n",
    "\n",
    "        print(\"Test 1 Passed\")\n",
    "        return 1\n",
    "    except:\n",
    "        print(\"Test 1 Failed - Exception Caused.\")\n",
    "        return 0\n"
   ]
  },
  {
   "cell_type": "code",
   "execution_count": 17,
   "metadata": {
    "scrolled": true,
    "ExecuteTime": {
     "end_time": "2023-11-30T16:37:02.904716900Z",
     "start_time": "2023-11-30T16:37:00.882690200Z"
    }
   },
   "outputs": [
    {
     "name": "stdout",
     "output_type": "stream",
     "text": [
      "Using port 8080\n",
      "Running Test 1 Simple login test.\n",
      "[WinError 2] The system cannot find the file specified\n",
      "Test Process Generated Exception\n",
      "Marks = 0 for regression tests.\n"
     ]
    }
   ],
   "source": [
    "# The lists of tests, you can add your own here.\n",
    "# test description, test function, database to use for test\n",
    "tests = [('Test 1 Simple login test.', test1, 'db/just_users.db')\n",
    "]\n",
    "def test_suite(file_to_run):\n",
    "    \"\"\"Iterate over all the tests and run them with a fresh server and copy of the specified database\"\"\"\n",
    "    global server_port # we cycle through ports if a program fails and occupies the port\n",
    "\n",
    "    mark_total = 0 # how many tests pass\n",
    "     \n",
    "    # loop over the tests\n",
    "    for tnumber, test in enumerate(tests, start = 1):\n",
    "        \n",
    "        #make sure we are using a free port\n",
    "        port = int(server_port)\n",
    "        busy = 1\n",
    "        while busy == 1:\n",
    "            sock = socket.socket(socket.AF_INET, socket.SOCK_STREAM)\n",
    "            sock.settimeout(2)\n",
    "            result = sock.connect_ex(('localhost',port))\n",
    "            if result == 0:\n",
    "                print('Port',port,'busy')\n",
    "                port +=1\n",
    "            else:\n",
    "                print('Using port',port)\n",
    "                busy = 0\n",
    "                \n",
    "        server_port = str(port)\n",
    "        \n",
    "        print(\"Running\",test[0])\n",
    "        \n",
    "        # try the test, if it generates an exception that is considered a fail.\n",
    "        try:\n",
    "            # copy the database to where the server expects it\n",
    "            shutil.copy(test[2],'database.db') \n",
    "            \n",
    "            #start the server, the path of the python executable needs to match your installation.\n",
    "            sp = subprocess.Popen('C:\\Program Files\\Anaconda3\\python.exe '+ file_to_run +' '+server_port)\n",
    "            \n",
    "            # run the test and record the mark.\n",
    "            tmark = test[1]()\n",
    "            mark_total += tmark\n",
    "\n",
    "            # close down the server\n",
    "            print(\"Test Finished\")\n",
    "            sp.terminate()\n",
    "            \n",
    "        except Exception as err:\n",
    "            print(err)\n",
    "            try:\n",
    "                sp.terminate()\n",
    "            except:\n",
    "                pass\n",
    "            print(\"Test Process Generated Exception\")\n",
    "        tnumber += 1\n",
    "        \n",
    "    print(\"Marks = {:d} for regression tests.\".format(mark_total))\n",
    "\n",
    "server_port=8080\n",
    "file_to_run = 'server.py'\n",
    "test_suite(file_to_run)"
   ]
  },
  {
   "cell_type": "code",
   "execution_count": null,
   "metadata": {
    "collapsed": true
   },
   "outputs": [],
   "source": []
  }
 ],
 "metadata": {
  "kernelspec": {
   "display_name": "Python 3",
   "language": "python",
   "name": "python3"
  },
  "language_info": {
   "codemirror_mode": {
    "name": "ipython",
    "version": 3
   },
   "file_extension": ".py",
   "mimetype": "text/x-python",
   "name": "python",
   "nbconvert_exporter": "python",
   "pygments_lexer": "ipython3",
   "version": "3.6.1"
  }
 },
 "nbformat": 4,
 "nbformat_minor": 2
}
